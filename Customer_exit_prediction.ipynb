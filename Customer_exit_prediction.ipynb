{
 "cells": [
  {
   "cell_type": "code",
   "execution_count": 3,
   "metadata": {
    "colab": {
     "base_uri": "https://localhost:8080/",
     "height": 71,
     "resources": {
      "http://localhost:8080/nbextensions/google.colab/files.js": {
       "data": "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",
       "headers": [
        [
         "content-type",
         "application/javascript"
        ]
       ],
       "ok": true,
       "status": 200,
       "status_text": ""
      }
     }
    },
    "colab_type": "code",
    "id": "oCxH_Y4P9ETx",
    "outputId": "7d2f8b43-5ed6-4389-f585-cae624f0b3f1"
   },
   "outputs": [
    {
     "data": {
      "text/html": [
       "\n",
       "     <input type=\"file\" id=\"files-b1f3d350-89a0-44fe-b15e-7e26b725772d\" name=\"files[]\" multiple disabled />\n",
       "     <output id=\"result-b1f3d350-89a0-44fe-b15e-7e26b725772d\">\n",
       "      Upload widget is only available when the cell has been executed in the\n",
       "      current browser session. Please rerun this cell to enable.\n",
       "      </output>\n",
       "      <script src=\"/nbextensions/google.colab/files.js\"></script> "
      ],
      "text/plain": [
       "<IPython.core.display.HTML object>"
      ]
     },
     "metadata": {
      "tags": []
     },
     "output_type": "display_data"
    },
    {
     "name": "stdout",
     "output_type": "stream",
     "text": [
      "Saving BankCustomers.csv to BankCustomers.csv\n"
     ]
    }
   ],
   "source": [
    "from google.colab import files\n",
    "file = files.upload()"
   ]
  },
  {
   "cell_type": "code",
   "execution_count": 0,
   "metadata": {
    "colab": {},
    "colab_type": "code",
    "id": "UVTQ8J54-chC"
   },
   "outputs": [],
   "source": [
    "import pandas as pd\n",
    "import numpy as np\n",
    "import matplotlib.pyplot as plt\n",
    "import seaborn as sns\n",
    "from sklearn.model_selection import train_test_split\n",
    "import keras\n",
    "from keras.models import Sequential\n",
    "from keras.layers import Dense"
   ]
  },
  {
   "cell_type": "code",
   "execution_count": 34,
   "metadata": {
    "colab": {
     "base_uri": "https://localhost:8080/",
     "height": 204
    },
    "colab_type": "code",
    "id": "u9z6OMe4-rOq",
    "outputId": "f41a5210-3a52-4d53-a1f2-e5635a90d69c"
   },
   "outputs": [
    {
     "data": {
      "text/html": [
       "<div>\n",
       "<style scoped>\n",
       "    .dataframe tbody tr th:only-of-type {\n",
       "        vertical-align: middle;\n",
       "    }\n",
       "\n",
       "    .dataframe tbody tr th {\n",
       "        vertical-align: top;\n",
       "    }\n",
       "\n",
       "    .dataframe thead th {\n",
       "        text-align: right;\n",
       "    }\n",
       "</style>\n",
       "<table border=\"1\" class=\"dataframe\">\n",
       "  <thead>\n",
       "    <tr style=\"text-align: right;\">\n",
       "      <th></th>\n",
       "      <th>RowNumber</th>\n",
       "      <th>CustomerId</th>\n",
       "      <th>Surname</th>\n",
       "      <th>CreditScore</th>\n",
       "      <th>Geography</th>\n",
       "      <th>Gender</th>\n",
       "      <th>Age</th>\n",
       "      <th>Tenure</th>\n",
       "      <th>Balance</th>\n",
       "      <th>NumOfProducts</th>\n",
       "      <th>HasCrCard</th>\n",
       "      <th>IsActiveMember</th>\n",
       "      <th>EstimatedSalary</th>\n",
       "      <th>Exited</th>\n",
       "    </tr>\n",
       "  </thead>\n",
       "  <tbody>\n",
       "    <tr>\n",
       "      <th>0</th>\n",
       "      <td>1</td>\n",
       "      <td>15634602</td>\n",
       "      <td>Hargrave</td>\n",
       "      <td>619</td>\n",
       "      <td>France</td>\n",
       "      <td>Female</td>\n",
       "      <td>42</td>\n",
       "      <td>2</td>\n",
       "      <td>0.00</td>\n",
       "      <td>1</td>\n",
       "      <td>1</td>\n",
       "      <td>1</td>\n",
       "      <td>101348.88</td>\n",
       "      <td>1</td>\n",
       "    </tr>\n",
       "    <tr>\n",
       "      <th>1</th>\n",
       "      <td>2</td>\n",
       "      <td>15647311</td>\n",
       "      <td>Hill</td>\n",
       "      <td>608</td>\n",
       "      <td>Spain</td>\n",
       "      <td>Female</td>\n",
       "      <td>41</td>\n",
       "      <td>1</td>\n",
       "      <td>83807.86</td>\n",
       "      <td>1</td>\n",
       "      <td>0</td>\n",
       "      <td>1</td>\n",
       "      <td>112542.58</td>\n",
       "      <td>0</td>\n",
       "    </tr>\n",
       "    <tr>\n",
       "      <th>2</th>\n",
       "      <td>3</td>\n",
       "      <td>15619304</td>\n",
       "      <td>Onio</td>\n",
       "      <td>502</td>\n",
       "      <td>France</td>\n",
       "      <td>Female</td>\n",
       "      <td>42</td>\n",
       "      <td>8</td>\n",
       "      <td>159660.80</td>\n",
       "      <td>3</td>\n",
       "      <td>1</td>\n",
       "      <td>0</td>\n",
       "      <td>113931.57</td>\n",
       "      <td>1</td>\n",
       "    </tr>\n",
       "    <tr>\n",
       "      <th>3</th>\n",
       "      <td>4</td>\n",
       "      <td>15701354</td>\n",
       "      <td>Boni</td>\n",
       "      <td>699</td>\n",
       "      <td>France</td>\n",
       "      <td>Female</td>\n",
       "      <td>39</td>\n",
       "      <td>1</td>\n",
       "      <td>0.00</td>\n",
       "      <td>2</td>\n",
       "      <td>0</td>\n",
       "      <td>0</td>\n",
       "      <td>93826.63</td>\n",
       "      <td>0</td>\n",
       "    </tr>\n",
       "    <tr>\n",
       "      <th>4</th>\n",
       "      <td>5</td>\n",
       "      <td>15737888</td>\n",
       "      <td>Mitchell</td>\n",
       "      <td>850</td>\n",
       "      <td>Spain</td>\n",
       "      <td>Female</td>\n",
       "      <td>43</td>\n",
       "      <td>2</td>\n",
       "      <td>125510.82</td>\n",
       "      <td>1</td>\n",
       "      <td>1</td>\n",
       "      <td>1</td>\n",
       "      <td>79084.10</td>\n",
       "      <td>0</td>\n",
       "    </tr>\n",
       "  </tbody>\n",
       "</table>\n",
       "</div>"
      ],
      "text/plain": [
       "   RowNumber  CustomerId   Surname  ...  IsActiveMember EstimatedSalary Exited\n",
       "0          1    15634602  Hargrave  ...               1       101348.88      1\n",
       "1          2    15647311      Hill  ...               1       112542.58      0\n",
       "2          3    15619304      Onio  ...               0       113931.57      1\n",
       "3          4    15701354      Boni  ...               0        93826.63      0\n",
       "4          5    15737888  Mitchell  ...               1        79084.10      0\n",
       "\n",
       "[5 rows x 14 columns]"
      ]
     },
     "execution_count": 34,
     "metadata": {
      "tags": []
     },
     "output_type": "execute_result"
    }
   ],
   "source": [
    "df = pd.read_csv('BankCustomers.csv')\n",
    "df.head()"
   ]
  },
  {
   "cell_type": "code",
   "execution_count": 35,
   "metadata": {
    "colab": {
     "base_uri": "https://localhost:8080/",
     "height": 340
    },
    "colab_type": "code",
    "id": "LzJNXZDB-12D",
    "outputId": "24db55b0-5442-4331-f42d-f8c93011f2f2"
   },
   "outputs": [
    {
     "name": "stdout",
     "output_type": "stream",
     "text": [
      "<class 'pandas.core.frame.DataFrame'>\n",
      "RangeIndex: 10000 entries, 0 to 9999\n",
      "Data columns (total 14 columns):\n",
      "RowNumber          10000 non-null int64\n",
      "CustomerId         10000 non-null int64\n",
      "Surname            10000 non-null object\n",
      "CreditScore        10000 non-null int64\n",
      "Geography          10000 non-null object\n",
      "Gender             10000 non-null object\n",
      "Age                10000 non-null int64\n",
      "Tenure             10000 non-null int64\n",
      "Balance            10000 non-null float64\n",
      "NumOfProducts      10000 non-null int64\n",
      "HasCrCard          10000 non-null int64\n",
      "IsActiveMember     10000 non-null int64\n",
      "EstimatedSalary    10000 non-null float64\n",
      "Exited             10000 non-null int64\n",
      "dtypes: float64(2), int64(9), object(3)\n",
      "memory usage: 1.1+ MB\n"
     ]
    }
   ],
   "source": [
    "df.info()"
   ]
  },
  {
   "cell_type": "code",
   "execution_count": 36,
   "metadata": {
    "colab": {
     "base_uri": "https://localhost:8080/",
     "height": 85
    },
    "colab_type": "code",
    "id": "lDHqZ1K7A9Sm",
    "outputId": "fc875aa4-c8ff-4ebc-9f46-b5f052157d2d"
   },
   "outputs": [
    {
     "data": {
      "text/plain": [
       "Index(['RowNumber', 'CustomerId', 'Surname', 'CreditScore', 'Geography',\n",
       "       'Gender', 'Age', 'Tenure', 'Balance', 'NumOfProducts', 'HasCrCard',\n",
       "       'IsActiveMember', 'EstimatedSalary', 'Exited'],\n",
       "      dtype='object')"
      ]
     },
     "execution_count": 36,
     "metadata": {
      "tags": []
     },
     "output_type": "execute_result"
    }
   ],
   "source": [
    "df.columns"
   ]
  },
  {
   "cell_type": "code",
   "execution_count": 37,
   "metadata": {
    "colab": {
     "base_uri": "https://localhost:8080/",
     "height": 272
    },
    "colab_type": "code",
    "id": "TOZl5m3IBBJx",
    "outputId": "844fed67-97d6-4256-fe7e-50980d8365ab"
   },
   "outputs": [
    {
     "data": {
      "text/plain": [
       "RowNumber          0\n",
       "CustomerId         0\n",
       "Surname            0\n",
       "CreditScore        0\n",
       "Geography          0\n",
       "Gender             0\n",
       "Age                0\n",
       "Tenure             0\n",
       "Balance            0\n",
       "NumOfProducts      0\n",
       "HasCrCard          0\n",
       "IsActiveMember     0\n",
       "EstimatedSalary    0\n",
       "Exited             0\n",
       "dtype: int64"
      ]
     },
     "execution_count": 37,
     "metadata": {
      "tags": []
     },
     "output_type": "execute_result"
    }
   ],
   "source": [
    "df.isnull().sum()"
   ]
  },
  {
   "cell_type": "code",
   "execution_count": 0,
   "metadata": {
    "colab": {},
    "colab_type": "code",
    "id": "nTgIsAahBGj8"
   },
   "outputs": [],
   "source": [
    "df.drop(['RowNumber', 'CustomerId', 'Surname'],1 , inplace = True)"
   ]
  },
  {
   "cell_type": "code",
   "execution_count": 0,
   "metadata": {
    "colab": {},
    "colab_type": "code",
    "id": "w8ewB3LtFOZU"
   },
   "outputs": [],
   "source": [
    "Gender = {'Female':0, 'Male':1}\n",
    "\n",
    "df.Gender = [Gender[i] for i in df.Gender]"
   ]
  },
  {
   "cell_type": "code",
   "execution_count": 51,
   "metadata": {
    "colab": {
     "base_uri": "https://localhost:8080/",
     "height": 359
    },
    "colab_type": "code",
    "id": "_fqc39L0FQcA",
    "outputId": "f63712ab-afcf-46f1-d0d2-ba85fe4c4dda"
   },
   "outputs": [
    {
     "data": {
      "text/html": [
       "<div>\n",
       "<style scoped>\n",
       "    .dataframe tbody tr th:only-of-type {\n",
       "        vertical-align: middle;\n",
       "    }\n",
       "\n",
       "    .dataframe tbody tr th {\n",
       "        vertical-align: top;\n",
       "    }\n",
       "\n",
       "    .dataframe thead th {\n",
       "        text-align: right;\n",
       "    }\n",
       "</style>\n",
       "<table border=\"1\" class=\"dataframe\">\n",
       "  <thead>\n",
       "    <tr style=\"text-align: right;\">\n",
       "      <th></th>\n",
       "      <th>CreditScore</th>\n",
       "      <th>Geography</th>\n",
       "      <th>Gender</th>\n",
       "      <th>Age</th>\n",
       "      <th>Tenure</th>\n",
       "      <th>Balance</th>\n",
       "      <th>NumOfProducts</th>\n",
       "      <th>HasCrCard</th>\n",
       "      <th>IsActiveMember</th>\n",
       "      <th>EstimatedSalary</th>\n",
       "      <th>Exited</th>\n",
       "    </tr>\n",
       "  </thead>\n",
       "  <tbody>\n",
       "    <tr>\n",
       "      <th>0</th>\n",
       "      <td>619</td>\n",
       "      <td>0</td>\n",
       "      <td>0</td>\n",
       "      <td>42</td>\n",
       "      <td>2</td>\n",
       "      <td>0.00</td>\n",
       "      <td>1</td>\n",
       "      <td>1</td>\n",
       "      <td>1</td>\n",
       "      <td>101348.88</td>\n",
       "      <td>1</td>\n",
       "    </tr>\n",
       "    <tr>\n",
       "      <th>1</th>\n",
       "      <td>608</td>\n",
       "      <td>2</td>\n",
       "      <td>0</td>\n",
       "      <td>41</td>\n",
       "      <td>1</td>\n",
       "      <td>83807.86</td>\n",
       "      <td>1</td>\n",
       "      <td>0</td>\n",
       "      <td>1</td>\n",
       "      <td>112542.58</td>\n",
       "      <td>0</td>\n",
       "    </tr>\n",
       "    <tr>\n",
       "      <th>2</th>\n",
       "      <td>502</td>\n",
       "      <td>0</td>\n",
       "      <td>0</td>\n",
       "      <td>42</td>\n",
       "      <td>8</td>\n",
       "      <td>159660.80</td>\n",
       "      <td>3</td>\n",
       "      <td>1</td>\n",
       "      <td>0</td>\n",
       "      <td>113931.57</td>\n",
       "      <td>1</td>\n",
       "    </tr>\n",
       "    <tr>\n",
       "      <th>3</th>\n",
       "      <td>699</td>\n",
       "      <td>0</td>\n",
       "      <td>0</td>\n",
       "      <td>39</td>\n",
       "      <td>1</td>\n",
       "      <td>0.00</td>\n",
       "      <td>2</td>\n",
       "      <td>0</td>\n",
       "      <td>0</td>\n",
       "      <td>93826.63</td>\n",
       "      <td>0</td>\n",
       "    </tr>\n",
       "    <tr>\n",
       "      <th>4</th>\n",
       "      <td>850</td>\n",
       "      <td>2</td>\n",
       "      <td>0</td>\n",
       "      <td>43</td>\n",
       "      <td>2</td>\n",
       "      <td>125510.82</td>\n",
       "      <td>1</td>\n",
       "      <td>1</td>\n",
       "      <td>1</td>\n",
       "      <td>79084.10</td>\n",
       "      <td>0</td>\n",
       "    </tr>\n",
       "    <tr>\n",
       "      <th>5</th>\n",
       "      <td>645</td>\n",
       "      <td>2</td>\n",
       "      <td>1</td>\n",
       "      <td>44</td>\n",
       "      <td>8</td>\n",
       "      <td>113755.78</td>\n",
       "      <td>2</td>\n",
       "      <td>1</td>\n",
       "      <td>0</td>\n",
       "      <td>149756.71</td>\n",
       "      <td>1</td>\n",
       "    </tr>\n",
       "    <tr>\n",
       "      <th>6</th>\n",
       "      <td>822</td>\n",
       "      <td>0</td>\n",
       "      <td>1</td>\n",
       "      <td>50</td>\n",
       "      <td>7</td>\n",
       "      <td>0.00</td>\n",
       "      <td>2</td>\n",
       "      <td>1</td>\n",
       "      <td>1</td>\n",
       "      <td>10062.80</td>\n",
       "      <td>0</td>\n",
       "    </tr>\n",
       "    <tr>\n",
       "      <th>7</th>\n",
       "      <td>376</td>\n",
       "      <td>1</td>\n",
       "      <td>0</td>\n",
       "      <td>29</td>\n",
       "      <td>4</td>\n",
       "      <td>115046.74</td>\n",
       "      <td>4</td>\n",
       "      <td>1</td>\n",
       "      <td>0</td>\n",
       "      <td>119346.88</td>\n",
       "      <td>1</td>\n",
       "    </tr>\n",
       "    <tr>\n",
       "      <th>8</th>\n",
       "      <td>501</td>\n",
       "      <td>0</td>\n",
       "      <td>1</td>\n",
       "      <td>44</td>\n",
       "      <td>4</td>\n",
       "      <td>142051.07</td>\n",
       "      <td>2</td>\n",
       "      <td>0</td>\n",
       "      <td>1</td>\n",
       "      <td>74940.50</td>\n",
       "      <td>0</td>\n",
       "    </tr>\n",
       "    <tr>\n",
       "      <th>9</th>\n",
       "      <td>684</td>\n",
       "      <td>0</td>\n",
       "      <td>1</td>\n",
       "      <td>27</td>\n",
       "      <td>2</td>\n",
       "      <td>134603.88</td>\n",
       "      <td>1</td>\n",
       "      <td>1</td>\n",
       "      <td>1</td>\n",
       "      <td>71725.73</td>\n",
       "      <td>0</td>\n",
       "    </tr>\n",
       "  </tbody>\n",
       "</table>\n",
       "</div>"
      ],
      "text/plain": [
       "   CreditScore  Geography  Gender  ...  IsActiveMember  EstimatedSalary  Exited\n",
       "0          619          0       0  ...               1        101348.88       1\n",
       "1          608          2       0  ...               1        112542.58       0\n",
       "2          502          0       0  ...               0        113931.57       1\n",
       "3          699          0       0  ...               0         93826.63       0\n",
       "4          850          2       0  ...               1         79084.10       0\n",
       "5          645          2       1  ...               0        149756.71       1\n",
       "6          822          0       1  ...               1         10062.80       0\n",
       "7          376          1       0  ...               0        119346.88       1\n",
       "8          501          0       1  ...               1         74940.50       0\n",
       "9          684          0       1  ...               1         71725.73       0\n",
       "\n",
       "[10 rows x 11 columns]"
      ]
     },
     "execution_count": 51,
     "metadata": {
      "tags": []
     },
     "output_type": "execute_result"
    }
   ],
   "source": [
    "#  convert text to integer\n",
    "\n",
    "def convert_to_int(data):\n",
    "  columns = df.columns.values\n",
    "  \n",
    "  for col in columns: \n",
    "    text_to_list = {}\n",
    "    \n",
    "    def to_list(i):\n",
    "      return text_to_list[i]\n",
    "    \n",
    "    if df[col].dtype!=np.int64 and df[col].dtype!=np.float64:\n",
    "      column_content = df[col].values.tolist()\n",
    "      column_content = set(column_content)\n",
    "      \n",
    "      X=0\n",
    "      for unique in column_content:\n",
    "        if unique not in text_to_list:\n",
    "          text_to_list[unique] = X\n",
    "          X+=1\n",
    "      df[col] = list(map(to_list, df[col]))\n",
    "  return df.head(10)\n",
    "      \n",
    "    \n",
    " \n",
    "convert_to_int(df)"
   ]
  },
  {
   "cell_type": "code",
   "execution_count": 67,
   "metadata": {
    "colab": {
     "base_uri": "https://localhost:8080/",
     "height": 517
    },
    "colab_type": "code",
    "id": "gX0rlKf3QFLo",
    "outputId": "21a700f1-7def-4e14-9e93-86070ef6b1af"
   },
   "outputs": [
    {
     "data": {
      "text/plain": [
       "<matplotlib.axes._subplots.AxesSubplot at 0x7f2863975dd8>"
      ]
     },
     "execution_count": 67,
     "metadata": {
      "tags": []
     },
     "output_type": "execute_result"
    },
    {
     "data": {
      "image/png": "[encoded data removed]",
      "text/plain": [
       "<Figure size 1080x576 with 1 Axes>"
      ]
     },
     "metadata": {
      "tags": []
     },
     "output_type": "display_data"
    }
   ],
   "source": [
    "plt.figure(figsize =[15,8])\n",
    "sns.distplot(df['Age'],kde=False,rug=False, color = 'green', label='Age',)"
   ]
  },
  {
   "cell_type": "code",
   "execution_count": 79,
   "metadata": {
    "colab": {
     "base_uri": "https://localhost:8080/",
     "height": 354
    },
    "colab_type": "code",
    "id": "FMEL8zWaRqdO",
    "outputId": "1be34358-9546-441c-bbf3-07a2f2ac71b0"
   },
   "outputs": [
    {
     "data": {
      "text/plain": [
       "<matplotlib.axes._subplots.AxesSubplot at 0x7f284d7fb048>"
      ]
     },
     "execution_count": 79,
     "metadata": {
      "tags": []
     },
     "output_type": "execute_result"
    },
    {
     "data": {
      "image/png": "[encoded data removed]",
      "text/plain": [
       "<Figure size 720x360 with 1 Axes>"
      ]
     },
     "metadata": {
      "tags": []
     },
     "output_type": "display_data"
    }
   ],
   "source": [
    "plt.figure(figsize=(10,5))\n",
    "sns.distplot(df['Geography'], axlabel='0: France, 1: Spain, 2:')"
   ]
  },
  {
   "cell_type": "code",
   "execution_count": 90,
   "metadata": {
    "colab": {
     "base_uri": "https://localhost:8080/",
     "height": 85
    },
    "colab_type": "code",
    "id": "qLasvpVIl7Hp",
    "outputId": "7c7742e8-9791-4e94-a55b-bbb760a98b3f"
   },
   "outputs": [
    {
     "data": {
      "text/plain": [
       "Index(['CreditScore', 'Geography', 'Gender', 'Age', 'Tenure', 'Balance',\n",
       "       'NumOfProducts', 'HasCrCard', 'IsActiveMember', 'EstimatedSalary',\n",
       "       'Exited'],\n",
       "      dtype='object')"
      ]
     },
     "execution_count": 90,
     "metadata": {
      "tags": []
     },
     "output_type": "execute_result"
    }
   ],
   "source": [
    "df.columns"
   ]
  },
  {
   "cell_type": "code",
   "execution_count": 0,
   "metadata": {
    "colab": {},
    "colab_type": "code",
    "id": "Wp6rWS_Z9Lef"
   },
   "outputs": [],
   "source": [
    "X = df.iloc[:, :9]\n",
    "y = df.iloc[:,10]\n"
   ]
  },
  {
   "cell_type": "code",
   "execution_count": 0,
   "metadata": {
    "colab": {},
    "colab_type": "code",
    "id": "IyAJ0DW38_A0"
   },
   "outputs": [],
   "source": [
    "X_train, X_test, y_train, y_test = train_test_split(X, y, test_size = 0.2)"
   ]
  },
  {
   "cell_type": "code",
   "execution_count": 0,
   "metadata": {
    "colab": {},
    "colab_type": "code",
    "id": "bTuSGFwWTRb_"
   },
   "outputs": [],
   "source": [
    "clf = Sequential()"
   ]
  },
  {
   "cell_type": "code",
   "execution_count": 138,
   "metadata": {
    "colab": {
     "base_uri": "https://localhost:8080/",
     "height": 1000
    },
    "colab_type": "code",
    "id": "2SL23HeSVAGB",
    "outputId": "454a170b-797f-4f24-9c7b-6effaf14f689"
   },
   "outputs": [
    {
     "name": "stdout",
     "output_type": "stream",
     "text": [
      "Epoch 1/100\n",
      "8000/8000 [==============================] - 2s 201us/step - loss: 0.5228 - acc: 0.7926\n",
      "Epoch 2/100\n",
      "8000/8000 [==============================] - 1s 142us/step - loss: 0.5112 - acc: 0.7929\n",
      "Epoch 3/100\n",
      "8000/8000 [==============================] - 1s 145us/step - loss: 0.5097 - acc: 0.7929\n",
      "Epoch 4/100\n",
      "8000/8000 [==============================] - 1s 138us/step - loss: 0.5084 - acc: 0.7929\n",
      "Epoch 5/100\n",
      "8000/8000 [==============================] - 1s 146us/step - loss: 0.5060 - acc: 0.7929\n",
      "Epoch 6/100\n",
      "8000/8000 [==============================] - 1s 145us/step - loss: 0.5044 - acc: 0.7929\n",
      "Epoch 7/100\n",
      "8000/8000 [==============================] - 1s 125us/step - loss: 0.5020 - acc: 0.7929\n",
      "Epoch 8/100\n",
      "8000/8000 [==============================] - 1s 130us/step - loss: 0.5001 - acc: 0.7929\n",
      "Epoch 9/100\n",
      "8000/8000 [==============================] - 1s 124us/step - loss: 0.4971 - acc: 0.7929\n",
      "Epoch 10/100\n",
      "8000/8000 [==============================] - 1s 123us/step - loss: 0.4936 - acc: 0.7929\n",
      "Epoch 11/100\n",
      "8000/8000 [==============================] - 1s 131us/step - loss: 0.4927 - acc: 0.7929\n",
      "Epoch 12/100\n",
      "8000/8000 [==============================] - 1s 127us/step - loss: 0.4915 - acc: 0.7929\n",
      "Epoch 13/100\n",
      "8000/8000 [==============================] - 1s 127us/step - loss: 0.4907 - acc: 0.7929\n",
      "Epoch 14/100\n",
      "8000/8000 [==============================] - 1s 129us/step - loss: 0.4909 - acc: 0.7929\n",
      "Epoch 15/100\n",
      "8000/8000 [==============================] - 1s 128us/step - loss: 0.4907 - acc: 0.7929\n",
      "Epoch 16/100\n",
      "8000/8000 [==============================] - 1s 129us/step - loss: 0.4906 - acc: 0.7929\n",
      "Epoch 17/100\n",
      "8000/8000 [==============================] - 1s 128us/step - loss: 0.4896 - acc: 0.7929\n",
      "Epoch 18/100\n",
      "8000/8000 [==============================] - 1s 125us/step - loss: 0.4885 - acc: 0.7929\n",
      "Epoch 19/100\n",
      "8000/8000 [==============================] - 1s 124us/step - loss: 0.4892 - acc: 0.7929\n",
      "Epoch 20/100\n",
      "8000/8000 [==============================] - 1s 122us/step - loss: 0.4880 - acc: 0.7929\n",
      "Epoch 21/100\n",
      "8000/8000 [==============================] - 1s 123us/step - loss: 0.4879 - acc: 0.7929\n",
      "Epoch 22/100\n",
      "8000/8000 [==============================] - 1s 128us/step - loss: 0.4872 - acc: 0.7929\n",
      "Epoch 23/100\n",
      "8000/8000 [==============================] - 1s 129us/step - loss: 0.4865 - acc: 0.7929\n",
      "Epoch 24/100\n",
      "8000/8000 [==============================] - 1s 125us/step - loss: 0.4880 - acc: 0.7929\n",
      "Epoch 25/100\n",
      "8000/8000 [==============================] - 1s 126us/step - loss: 0.4862 - acc: 0.7929\n",
      "Epoch 26/100\n",
      "8000/8000 [==============================] - 1s 127us/step - loss: 0.4873 - acc: 0.7922\n",
      "Epoch 27/100\n",
      "8000/8000 [==============================] - 1s 128us/step - loss: 0.4884 - acc: 0.7929\n",
      "Epoch 28/100\n",
      "8000/8000 [==============================] - 1s 128us/step - loss: 0.4878 - acc: 0.7929\n",
      "Epoch 29/100\n",
      "8000/8000 [==============================] - 1s 126us/step - loss: 0.4875 - acc: 0.7929\n",
      "Epoch 30/100\n",
      "8000/8000 [==============================] - 1s 125us/step - loss: 0.4879 - acc: 0.7929\n",
      "Epoch 31/100\n",
      "8000/8000 [==============================] - 1s 125us/step - loss: 0.4883 - acc: 0.7929\n",
      "Epoch 32/100\n",
      "8000/8000 [==============================] - 1s 126us/step - loss: 0.4876 - acc: 0.7929\n",
      "Epoch 33/100\n",
      "8000/8000 [==============================] - 1s 125us/step - loss: 0.4874 - acc: 0.7929\n",
      "Epoch 34/100\n",
      "8000/8000 [==============================] - 1s 126us/step - loss: 0.4874 - acc: 0.7929\n",
      "Epoch 35/100\n",
      "8000/8000 [==============================] - 1s 125us/step - loss: 0.4848 - acc: 0.7930\n",
      "Epoch 36/100\n",
      "8000/8000 [==============================] - 1s 126us/step - loss: 0.4825 - acc: 0.7940\n",
      "Epoch 37/100\n",
      "8000/8000 [==============================] - 1s 128us/step - loss: 0.4823 - acc: 0.7944\n",
      "Epoch 38/100\n",
      "8000/8000 [==============================] - 1s 124us/step - loss: 0.4819 - acc: 0.7962\n",
      "Epoch 39/100\n",
      "8000/8000 [==============================] - 1s 130us/step - loss: 0.4824 - acc: 0.7946\n",
      "Epoch 40/100\n",
      "8000/8000 [==============================] - 1s 128us/step - loss: 0.4816 - acc: 0.7954\n",
      "Epoch 41/100\n",
      "8000/8000 [==============================] - 1s 133us/step - loss: 0.4811 - acc: 0.7945\n",
      "Epoch 42/100\n",
      "8000/8000 [==============================] - 1s 125us/step - loss: 0.4800 - acc: 0.7950\n",
      "Epoch 43/100\n",
      "8000/8000 [==============================] - 1s 128us/step - loss: 0.4794 - acc: 0.7985\n",
      "Epoch 44/100\n",
      "8000/8000 [==============================] - 1s 126us/step - loss: 0.4808 - acc: 0.7956\n",
      "Epoch 45/100\n",
      "8000/8000 [==============================] - 1s 123us/step - loss: 0.4789 - acc: 0.7969\n",
      "Epoch 46/100\n",
      "8000/8000 [==============================] - 1s 124us/step - loss: 0.4792 - acc: 0.7986\n",
      "Epoch 47/100\n",
      "8000/8000 [==============================] - 1s 122us/step - loss: 0.4796 - acc: 0.7971\n",
      "Epoch 48/100\n",
      "8000/8000 [==============================] - 1s 125us/step - loss: 0.4784 - acc: 0.7970\n",
      "Epoch 49/100\n",
      "8000/8000 [==============================] - 1s 127us/step - loss: 0.4778 - acc: 0.7964\n",
      "Epoch 50/100\n",
      "8000/8000 [==============================] - 1s 125us/step - loss: 0.4766 - acc: 0.7975\n",
      "Epoch 51/100\n",
      "8000/8000 [==============================] - 1s 125us/step - loss: 0.4761 - acc: 0.7987\n",
      "Epoch 52/100\n",
      "8000/8000 [==============================] - 1s 127us/step - loss: 0.4754 - acc: 0.7976\n",
      "Epoch 53/100\n",
      "8000/8000 [==============================] - 1s 128us/step - loss: 0.4759 - acc: 0.7979\n",
      "Epoch 54/100\n",
      "8000/8000 [==============================] - 1s 127us/step - loss: 0.4747 - acc: 0.7970\n",
      "Epoch 55/100\n",
      "8000/8000 [==============================] - 1s 125us/step - loss: 0.4745 - acc: 0.7977\n",
      "Epoch 56/100\n",
      "8000/8000 [==============================] - 1s 124us/step - loss: 0.4742 - acc: 0.7972\n",
      "Epoch 57/100\n",
      "8000/8000 [==============================] - 1s 125us/step - loss: 0.4727 - acc: 0.7979\n",
      "Epoch 58/100\n",
      "8000/8000 [==============================] - 1s 123us/step - loss: 0.4707 - acc: 0.8000\n",
      "Epoch 59/100\n",
      "8000/8000 [==============================] - 1s 127us/step - loss: 0.4729 - acc: 0.7985\n",
      "Epoch 60/100\n",
      "8000/8000 [==============================] - 1s 124us/step - loss: 0.4706 - acc: 0.7987\n",
      "Epoch 61/100\n",
      "8000/8000 [==============================] - 1s 122us/step - loss: 0.4688 - acc: 0.7999\n",
      "Epoch 62/100\n",
      "8000/8000 [==============================] - 1s 126us/step - loss: 0.4727 - acc: 0.7971\n",
      "Epoch 63/100\n",
      "8000/8000 [==============================] - 1s 131us/step - loss: 0.4692 - acc: 0.8016\n",
      "Epoch 64/100\n",
      "8000/8000 [==============================] - 1s 130us/step - loss: 0.4689 - acc: 0.8012\n",
      "Epoch 65/100\n",
      "8000/8000 [==============================] - 1s 128us/step - loss: 0.4690 - acc: 0.7989\n",
      "Epoch 66/100\n",
      "8000/8000 [==============================] - 1s 127us/step - loss: 0.4691 - acc: 0.8004\n",
      "Epoch 67/100\n",
      "8000/8000 [==============================] - 1s 129us/step - loss: 0.4681 - acc: 0.7987\n",
      "Epoch 68/100\n",
      "8000/8000 [==============================] - 1s 127us/step - loss: 0.4691 - acc: 0.8002\n",
      "Epoch 69/100\n",
      "8000/8000 [==============================] - 1s 128us/step - loss: 0.4672 - acc: 0.8009\n",
      "Epoch 70/100\n",
      "8000/8000 [==============================] - 1s 145us/step - loss: 0.4670 - acc: 0.7999\n",
      "Epoch 71/100\n",
      "8000/8000 [==============================] - 1s 164us/step - loss: 0.4683 - acc: 0.7985\n",
      "Epoch 72/100\n",
      "8000/8000 [==============================] - 1s 151us/step - loss: 0.4674 - acc: 0.7980\n",
      "Epoch 73/100\n",
      "8000/8000 [==============================] - 1s 151us/step - loss: 0.4670 - acc: 0.7997\n",
      "Epoch 74/100\n",
      "8000/8000 [==============================] - 1s 148us/step - loss: 0.4670 - acc: 0.8002\n",
      "Epoch 75/100\n",
      "8000/8000 [==============================] - 1s 147us/step - loss: 0.4654 - acc: 0.8000\n",
      "Epoch 76/100\n",
      "8000/8000 [==============================] - 1s 153us/step - loss: 0.4665 - acc: 0.8006\n",
      "Epoch 77/100\n",
      "8000/8000 [==============================] - 1s 146us/step - loss: 0.4675 - acc: 0.8005\n",
      "Epoch 78/100\n",
      "8000/8000 [==============================] - 1s 141us/step - loss: 0.4659 - acc: 0.7989\n",
      "Epoch 79/100\n",
      "8000/8000 [==============================] - 1s 129us/step - loss: 0.4662 - acc: 0.8002\n",
      "Epoch 80/100\n",
      "8000/8000 [==============================] - 1s 129us/step - loss: 0.4655 - acc: 0.7991\n",
      "Epoch 81/100\n",
      "8000/8000 [==============================] - 1s 129us/step - loss: 0.4650 - acc: 0.8000\n",
      "Epoch 82/100\n",
      "8000/8000 [==============================] - 1s 125us/step - loss: 0.4646 - acc: 0.8006\n",
      "Epoch 83/100\n",
      "8000/8000 [==============================] - 1s 127us/step - loss: 0.4664 - acc: 0.8009\n",
      "Epoch 84/100\n",
      "8000/8000 [==============================] - 1s 126us/step - loss: 0.4646 - acc: 0.7999\n",
      "Epoch 85/100\n",
      "8000/8000 [==============================] - 1s 132us/step - loss: 0.4666 - acc: 0.8007\n",
      "Epoch 86/100\n",
      "8000/8000 [==============================] - 1s 126us/step - loss: 0.4650 - acc: 0.7997\n",
      "Epoch 87/100\n",
      "8000/8000 [==============================] - 1s 124us/step - loss: 0.4656 - acc: 0.8011\n",
      "Epoch 88/100\n",
      "8000/8000 [==============================] - 1s 124us/step - loss: 0.4650 - acc: 0.8006\n",
      "Epoch 89/100\n",
      "8000/8000 [==============================] - 1s 125us/step - loss: 0.4637 - acc: 0.8011\n",
      "Epoch 90/100\n",
      "8000/8000 [==============================] - 1s 126us/step - loss: 0.4663 - acc: 0.7996\n",
      "Epoch 91/100\n",
      "8000/8000 [==============================] - 1s 130us/step - loss: 0.4648 - acc: 0.8000\n",
      "Epoch 92/100\n",
      "8000/8000 [==============================] - 1s 128us/step - loss: 0.4644 - acc: 0.7991\n",
      "Epoch 93/100\n",
      "8000/8000 [==============================] - 1s 130us/step - loss: 0.4655 - acc: 0.8012\n",
      "Epoch 94/100\n",
      "8000/8000 [==============================] - 1s 128us/step - loss: 0.4635 - acc: 0.7991\n",
      "Epoch 95/100\n",
      "8000/8000 [==============================] - 1s 124us/step - loss: 0.4645 - acc: 0.7995\n",
      "Epoch 96/100\n",
      "8000/8000 [==============================] - 1s 125us/step - loss: 0.4635 - acc: 0.7997\n",
      "Epoch 97/100\n",
      "8000/8000 [==============================] - 1s 128us/step - loss: 0.4644 - acc: 0.7999\n",
      "Epoch 98/100\n",
      "8000/8000 [==============================] - 1s 122us/step - loss: 0.4623 - acc: 0.8005\n",
      "Epoch 99/100\n",
      "8000/8000 [==============================] - 1s 131us/step - loss: 0.4636 - acc: 0.7990\n",
      "Epoch 100/100\n",
      "8000/8000 [==============================] - 1s 127us/step - loss: 0.4640 - acc: 0.7997\n"
     ]
    },
    {
     "data": {
      "text/plain": [
       "<keras.callbacks.History at 0x7f284793acc0>"
      ]
     },
     "execution_count": 138,
     "metadata": {
      "tags": []
     },
     "output_type": "execute_result"
    }
   ],
   "source": [
    "clf.add(Dense(activation='relu', input_dim = 9, units=6, kernel_initializer='uniform'))\n",
    "\n",
    "clf.add(Dense(activation = 'relu', units = 6,kernel_initializer='uniform'))\n",
    "\n",
    "clf.add(Dense(activation = 'relu', units = 6,kernel_initializer='uniform'))\n",
    "\n",
    "clf.add(Dense(activation = 'sigmoid', units = 1, kernel_initializer=\"uniform\"))\n",
    "\n",
    "clf.compile(optimizer='adam', loss='binary_crossentropy', metrics =['accuracy'])\n",
    "\n",
    "clf.fit(X_train, y_train, batch_size=10, epochs=100)"
   ]
  },
  {
   "cell_type": "code",
   "execution_count": 155,
   "metadata": {
    "colab": {
     "base_uri": "https://localhost:8080/",
     "height": 136
    },
    "colab_type": "code",
    "id": "DTBv_L_e-7mG",
    "outputId": "f07be914-453e-4f5c-c9b1-f74f446d9880"
   },
   "outputs": [
    {
     "data": {
      "text/plain": [
       "array([[False],\n",
       "       [False],\n",
       "       [False],\n",
       "       ...,\n",
       "       [False],\n",
       "       [False],\n",
       "       [False]])"
      ]
     },
     "execution_count": 155,
     "metadata": {
      "tags": []
     },
     "output_type": "execute_result"
    }
   ],
   "source": [
    "score = clf.predict(X_test)\n",
    "score = score>0.5\n",
    "score"
   ]
  },
  {
   "cell_type": "code",
   "execution_count": 156,
   "metadata": {
    "colab": {
     "base_uri": "https://localhost:8080/",
     "height": 51
    },
    "colab_type": "code",
    "id": "sWaK838IHIig",
    "outputId": "1693cf1d-e39e-4f6b-9dae-9848a8ccc936"
   },
   "outputs": [
    {
     "data": {
      "text/plain": [
       "(array([[1600,   20],\n",
       "        [ 350,   30]]), 0.815)"
      ]
     },
     "execution_count": 156,
     "metadata": {
      "tags": []
     },
     "output_type": "execute_result"
    }
   ],
   "source": [
    "from sklearn.metrics import confusion_matrix, accuracy_score\n",
    "cm = confusion_matrix(y_test, score.round())\n",
    "a_s = accuracy_score(y_test, score.round())\n",
    "cm,a_s"
   ]
  }
 ],
 "metadata": {
  "colab": {
   "collapsed_sections": [],
   "name": "Welcome To Colaboratory",
   "provenance": []
  },
  "kernelspec": {
   "display_name": "Python 3",
   "language": "python",
   "name": "python3"
  },
  "language_info": {
   "codemirror_mode": {
    "name": "ipython",
    "version": 3
   },
   "file_extension": ".py",
   "mimetype": "text/x-python",
   "name": "python",
   "nbconvert_exporter": "python",
   "pygments_lexer": "ipython3",
   "version": "3.7.4"
  }
 },
 "nbformat": 4,
 "nbformat_minor": 1
}
