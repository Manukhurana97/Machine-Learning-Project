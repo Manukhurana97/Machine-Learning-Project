{
  "nbformat": 4,
  "nbformat_minor": 0,
  "metadata": {
    "colab": {
      "name": "RNN_TimeSeries_cryptocurrency.ipynb",
      "provenance": [],
      "collapsed_sections": []
    },
    "kernelspec": {
      "name": "python3",
      "display_name": "Python 3"
    },
    "accelerator": "GPU"
  },
  "cells": [
    {
      "cell_type": "code",
      "metadata": {
        "id": "0ZTUwv1Nh3RC",
        "colab_type": "code",
        "outputId": "5cb48482-652a-459c-f7e9-579fde468211",
        "colab": {
          "base_uri": "https://localhost:8080/",
          "height": 125
        }
      },
      "source": [
        "from google.colab import drive\n",
        "drive.mount('/drive')"
      ],
      "execution_count": 2,
      "outputs": [
        {
          "output_type": "stream",
          "text": [
            "Go to this URL in a browser: https://accounts.google.com/o/oauth2/auth?client_id=947318989803-6bn6qk8qdgf4n4g3pfee6491hc0brc4i.apps.googleusercontent.com&redirect_uri=urn%3Aietf%3Awg%3Aoauth%3A2.0%3Aoob&scope=email%20https%3A%2F%2Fwww.googleapis.com%2Fauth%2Fdocs.test%20https%3A%2F%2Fwww.googleapis.com%2Fauth%2Fdrive%20https%3A%2F%2Fwww.googleapis.com%2Fauth%2Fdrive.photos.readonly%20https%3A%2F%2Fwww.googleapis.com%2Fauth%2Fpeopleapi.readonly&response_type=code\n",
            "\n",
            "Enter your authorization code:\n",
            "··········\n",
            "Mounted at /drive\n"
          ],
          "name": "stdout"
        }
      ]
    },
    {
      "cell_type": "code",
      "metadata": {
        "id": "Hq8km2W2lvvx",
        "colab_type": "code",
        "colab": {}
      },
      "source": [
        "loc = '/drive/My Drive/Colab Notebooks/crypto_data/' "
      ],
      "execution_count": 0,
      "outputs": []
    },
    {
      "cell_type": "code",
      "metadata": {
        "id": "tyCr96JedqI1",
        "colab_type": "code",
        "colab": {}
      },
      "source": [
        "import os\n",
        "import numpy as np\n",
        "import pandas as pd\n",
        "import matplotlib.pyplot as plt\n",
        "import random\n",
        "\n",
        "from sklearn import preprocessing\n",
        "from collections import deque"
      ],
      "execution_count": 0,
      "outputs": []
    },
    {
      "cell_type": "code",
      "metadata": {
        "id": "eoqgmhv_N9lc",
        "colab_type": "code",
        "outputId": "f60c3edc-09fe-41d4-aa1f-5ee2be131de8",
        "colab": {
          "base_uri": "https://localhost:8080/",
          "height": 197
        }
      },
      "source": [
        "df = pd.read_csv(loc + 'ETH-USD.csv', names = ['time', 'low', 'high', 'open', 'close', 'volume'])\n",
        "df.head()"
      ],
      "execution_count": 4,
      "outputs": [
        {
          "output_type": "execute_result",
          "data": {
            "text/html": [
              "<div>\n",
              "<style scoped>\n",
              "    .dataframe tbody tr th:only-of-type {\n",
              "        vertical-align: middle;\n",
              "    }\n",
              "\n",
              "    .dataframe tbody tr th {\n",
              "        vertical-align: top;\n",
              "    }\n",
              "\n",
              "    .dataframe thead th {\n",
              "        text-align: right;\n",
              "    }\n",
              "</style>\n",
              "<table border=\"1\" class=\"dataframe\">\n",
              "  <thead>\n",
              "    <tr style=\"text-align: right;\">\n",
              "      <th></th>\n",
              "      <th>time</th>\n",
              "      <th>low</th>\n",
              "      <th>high</th>\n",
              "      <th>open</th>\n",
              "      <th>close</th>\n",
              "      <th>volume</th>\n",
              "    </tr>\n",
              "  </thead>\n",
              "  <tbody>\n",
              "    <tr>\n",
              "      <th>0</th>\n",
              "      <td>1528968720</td>\n",
              "      <td>485.98999</td>\n",
              "      <td>486.5</td>\n",
              "      <td>486.019989</td>\n",
              "      <td>486.01001</td>\n",
              "      <td>26.019083</td>\n",
              "    </tr>\n",
              "    <tr>\n",
              "      <th>1</th>\n",
              "      <td>1528968780</td>\n",
              "      <td>486.00000</td>\n",
              "      <td>486.0</td>\n",
              "      <td>486.000000</td>\n",
              "      <td>486.00000</td>\n",
              "      <td>8.449400</td>\n",
              "    </tr>\n",
              "    <tr>\n",
              "      <th>2</th>\n",
              "      <td>1528968840</td>\n",
              "      <td>485.75000</td>\n",
              "      <td>486.0</td>\n",
              "      <td>486.000000</td>\n",
              "      <td>485.75000</td>\n",
              "      <td>26.994646</td>\n",
              "    </tr>\n",
              "    <tr>\n",
              "      <th>3</th>\n",
              "      <td>1528968900</td>\n",
              "      <td>485.75000</td>\n",
              "      <td>486.0</td>\n",
              "      <td>485.750000</td>\n",
              "      <td>486.00000</td>\n",
              "      <td>77.355759</td>\n",
              "    </tr>\n",
              "    <tr>\n",
              "      <th>4</th>\n",
              "      <td>1528968960</td>\n",
              "      <td>485.98999</td>\n",
              "      <td>486.0</td>\n",
              "      <td>486.000000</td>\n",
              "      <td>486.00000</td>\n",
              "      <td>7.503300</td>\n",
              "    </tr>\n",
              "  </tbody>\n",
              "</table>\n",
              "</div>"
            ],
            "text/plain": [
              "         time        low   high        open      close     volume\n",
              "0  1528968720  485.98999  486.5  486.019989  486.01001  26.019083\n",
              "1  1528968780  486.00000  486.0  486.000000  486.00000   8.449400\n",
              "2  1528968840  485.75000  486.0  486.000000  485.75000  26.994646\n",
              "3  1528968900  485.75000  486.0  485.750000  486.00000  77.355759\n",
              "4  1528968960  485.98999  486.0  486.000000  486.00000   7.503300"
            ]
          },
          "metadata": {
            "tags": []
          },
          "execution_count": 4
        }
      ]
    },
    {
      "cell_type": "code",
      "metadata": {
        "id": "Jie3ruwvOCX8",
        "colab_type": "code",
        "outputId": "3fb72bc2-454b-4381-8e3a-80835741643d",
        "colab": {
          "base_uri": "https://localhost:8080/",
          "height": 194
        }
      },
      "source": [
        "main_df = []\n",
        "categories = ['ETH-USD', 'BTC-USD', 'BCH-USD', 'LTC-USD']\n",
        "for category in categories:\n",
        "  \n",
        "  path = os.path.join(loc+category+'.csv')\n",
        "  df = pd.read_csv(path, names = ['time', 'low', 'high', 'open', 'close', 'volume'])\n",
        "  \n",
        "  df.rename(columns={'close':f'{category}_close', 'volume':f'{category}volume'}, inplace = True)\n",
        "  \n",
        "  df.set_index('time', inplace=True)\n",
        "  df = df[[f'{category}_close' , f'{category}volume']]\n",
        "  \n",
        "  if len (main_df) == 0:\n",
        "    main_df = df\n",
        "  else:\n",
        "    main_df = main_df.join(df)\n",
        "\n",
        "\n",
        "main_df.fillna(method = 'ffill', inplace = True)\n",
        "main_df.dropna(inplace=True)\n",
        "print(f'Total Data : {len(main_df)}','\\n' ,main_df.head())"
      ],
      "execution_count": 5,
      "outputs": [
        {
          "output_type": "stream",
          "text": [
            "Total Data : 102831 \n",
            "             ETH-USD_close  ETH-USDvolume  ...  LTC-USD_close  LTC-USDvolume\n",
            "time                                      ...                              \n",
            "1528968720      486.01001      26.019083  ...      96.660004     314.387024\n",
            "1528968780      486.00000       8.449400  ...      96.570000      77.129799\n",
            "1528968840      485.75000      26.994646  ...      96.500000       7.216067\n",
            "1528968900      486.00000      77.355759  ...      96.389999     524.539978\n",
            "1528968960      486.00000       7.503300  ...      96.519997      16.991997\n",
            "\n",
            "[5 rows x 8 columns]\n"
          ],
          "name": "stdout"
        }
      ]
    },
    {
      "cell_type": "code",
      "metadata": {
        "id": "DYdt3vmfS5qW",
        "colab_type": "code",
        "outputId": "1e18c275-4e58-4abf-9b7b-ba05e5a903fb",
        "colab": {
          "base_uri": "https://localhost:8080/",
          "height": 70
        }
      },
      "source": [
        "main_df.columns"
      ],
      "execution_count": 6,
      "outputs": [
        {
          "output_type": "execute_result",
          "data": {
            "text/plain": [
              "Index(['ETH-USD_close', 'ETH-USDvolume', 'BTC-USD_close', 'BTC-USDvolume',\n",
              "       'BCH-USD_close', 'BCH-USDvolume', 'LTC-USD_close', 'LTC-USDvolume'],\n",
              "      dtype='object')"
            ]
          },
          "metadata": {
            "tags": []
          },
          "execution_count": 6
        }
      ]
    },
    {
      "cell_type": "code",
      "metadata": {
        "id": "4KQNdRGLS8wi",
        "colab_type": "code",
        "colab": {}
      },
      "source": [
        "SEQ_LEN = 60 # how long of a preceeding sequence to collect for RNN\n",
        "FUTURE_PREDICT = 3 # how far into the future are we trying to predict?\n",
        "RATIO_TO_PREDICT = 'LTC-USD'"
      ],
      "execution_count": 0,
      "outputs": []
    },
    {
      "cell_type": "code",
      "metadata": {
        "id": "Eyw_I6D4_yeE",
        "colab_type": "code",
        "colab": {}
      },
      "source": [
        "def classify(current,future):\n",
        "  if float(current) < float(future) :\n",
        "    return 1\n",
        "  else:\n",
        "    return 0"
      ],
      "execution_count": 0,
      "outputs": []
    },
    {
      "cell_type": "code",
      "metadata": {
        "id": "4kueXuF7BSFz",
        "colab_type": "code",
        "colab": {}
      },
      "source": [
        "main_df['future'] = main_df[RATIO_TO_PREDICT+'_close'].shift(-FUTURE_PREDICT)\n",
        "\n",
        "main_df['target'] = list(map(classify, main_df[RATIO_TO_PREDICT+'_close'], main_df['future']))"
      ],
      "execution_count": 0,
      "outputs": []
    },
    {
      "cell_type": "code",
      "metadata": {
        "id": "fy4pRSriEg1g",
        "colab_type": "code",
        "outputId": "ec7b4df0-38e7-4391-d5d6-927ee949a905",
        "colab": {
          "base_uri": "https://localhost:8080/",
          "height": 247
        }
      },
      "source": [
        "print(f'Total :{len(main_df)}')\n",
        "print(main_df[[f'{RATIO_TO_PREDICT}_close', 'future' , 'target']].head(10))"
      ],
      "execution_count": 10,
      "outputs": [
        {
          "output_type": "stream",
          "text": [
            "Total :102831\n",
            "            LTC-USD_close     future  target\n",
            "time                                        \n",
            "1528968720      96.660004  96.389999       0\n",
            "1528968780      96.570000  96.519997       0\n",
            "1528968840      96.500000  96.440002       0\n",
            "1528968900      96.389999  96.470001       1\n",
            "1528968960      96.519997  96.400002       0\n",
            "1528969020      96.440002  96.400002       0\n",
            "1528969080      96.470001  96.400002       0\n",
            "1528969140      96.400002  96.400002       0\n",
            "1528969200      96.400002  96.400002       0\n",
            "1528969260      96.400002  96.449997       1\n"
          ],
          "name": "stdout"
        }
      ]
    },
    {
      "cell_type": "code",
      "metadata": {
        "id": "5F-jLYneEkpv",
        "colab_type": "code",
        "colab": {}
      },
      "source": [
        "times = sorted(main_df.index.values) # get the times sorted\n",
        "\n",
        "last_5percent = times[-int(0.05*len(times))]  # get the last 5% of the times"
      ],
      "execution_count": 0,
      "outputs": []
    },
    {
      "cell_type": "code",
      "metadata": {
        "id": "sXTlaCGSO3SZ",
        "colab_type": "code",
        "colab": {}
      },
      "source": [
        "validation_main_df = main_df[(main_df.index >= last_5percent)] # validation dataa of last 5% \n",
        "\n",
        "main_df = main_df[(main_df.index < last_5percent)]"
      ],
      "execution_count": 0,
      "outputs": []
    },
    {
      "cell_type": "code",
      "metadata": {
        "id": "TZx_TNTAWLss",
        "colab_type": "code",
        "colab": {}
      },
      "source": [
        "def preprocess_df(df):\n",
        "  \n",
        "  df = df.drop('future', 1) # don't need this anymore.\n",
        "  \n",
        "  for col in df.columns:\n",
        "    if col != 'target': # normalize all ... except for the target itself!\n",
        "      df[col] = df[col].pct_change()  # pct change \"normalizes\" the different currencies\n",
        "      df.dropna(inplace=True)\n",
        "      df[col] = preprocessing.scale(df[col].values)\n",
        "  df.dropna(inplace=True)\n",
        "  \n",
        "  sequential_data = []\n",
        "  prev_days = deque(maxlen = SEQ_LEN )  # These will be our actual sequences. They are made with deque, which keeps the maximum length by popping out older values as new ones come in\n",
        "  \n",
        "\n",
        "  for i in df.values: # iterate over the values\n",
        "    prev_days.append([n for n in i[:-1]]) # store all but the target\n",
        "\n",
        "    if len(prev_days) == SEQ_LEN:  # make sure we have 60 sequences!\n",
        "            sequential_data.append([np.array(prev_days), i[-1]])  # append those bad boys!\n",
        "\n",
        "  random.shuffle(sequential_data)\n",
        "\n",
        "  buys = []  # list that will store our buy sequences and targets\n",
        "  sells = []  # list that will store our sell sequences and targets\n",
        "\n",
        "  for seq, target in sequential_data:  # iterate over the sequential data\n",
        "      if target == 0:  # if it's a \"not buy\"\n",
        "          sells.append([seq, target])  # append to sells list\n",
        "      elif target == 1:  # otherwise if the target is a 1...\n",
        "          buys.append([seq, target])  # it's a buy!\n",
        "\n",
        "  random.shuffle(buys)  # shuffle the buys\n",
        "  random.shuffle(sells)  # shuffle the sells!\n",
        "\n",
        "  lower = min(len(buys), len(sells))  # what's the shorter length?\n",
        "\n",
        "  buys = buys[:lower]  # make sure both lists are only up to the shortest length.\n",
        "  sells = sells[:lower]  # make sure both lists are only up to the shortest length.\n",
        "\n",
        "  sequential_data = buys+sells  # add them together\n",
        "  random.shuffle(sequential_data)  # another shuffle, so the model doesn't get confused with all 1 class then the other.\n",
        "\n",
        "  X = []\n",
        "  y = []\n",
        "\n",
        "  for seq, target in sequential_data:  # going over our new sequential data\n",
        "      X.append(seq)  # X is the sequences\n",
        "      y.append(target)  # y is the targets/labels (buys vs sell/notbuy)\n",
        "\n",
        "  return np.array(X), y  # return X and y...and make X a numpy array!"
      ],
      "execution_count": 0,
      "outputs": []
    },
    {
      "cell_type": "code",
      "metadata": {
        "id": "yh-hrFxLQ1TJ",
        "colab_type": "code",
        "colab": {}
      },
      "source": [
        "X_train, y_train =  preprocess_df(main_df)\n",
        "\n",
        "X_test, y_test = preprocess_df(validation_main_df)\n"
      ],
      "execution_count": 0,
      "outputs": []
    },
    {
      "cell_type": "code",
      "metadata": {
        "id": "BsQq_W_7VBHn",
        "colab_type": "code",
        "outputId": "802ae694-19d3-4253-c2ae-40fdef353d80",
        "colab": {
          "base_uri": "https://localhost:8080/",
          "height": 70
        }
      },
      "source": [
        "print(f'Train Data : {len(X_train)}, Test Data : {len(y_train)}')\n",
        "print(f'Buy : {y_train.count(1)}, Sell : {y_train.count(0)}')\n",
        "print(f'Validation Buy : {len(y_test)}, Validation Sell : {y_test.count(0)}')"
      ],
      "execution_count": 18,
      "outputs": [
        {
          "output_type": "stream",
          "text": [
            "Train Data : 82166, Test Data : 82166\n",
            "Buy : 41083, Sell : 41083\n",
            "Validation Buy : 4018, Validation Sell : 2009\n"
          ],
          "name": "stdout"
        }
      ]
    },
    {
      "cell_type": "code",
      "metadata": {
        "id": "4tdvemyCJ4VK",
        "colab_type": "code",
        "colab": {
          "base_uri": "https://localhost:8080/",
          "height": 34
        },
        "outputId": "19de98e8-c41d-4215-a146-942e7485ae9a"
      },
      "source": [
        "X_train.shape[:]"
      ],
      "execution_count": 19,
      "outputs": [
        {
          "output_type": "execute_result",
          "data": {
            "text/plain": [
              "(82166, 60, 8)"
            ]
          },
          "metadata": {
            "tags": []
          },
          "execution_count": 19
        }
      ]
    },
    {
      "cell_type": "markdown",
      "metadata": {
        "id": "ysmypGUluViQ",
        "colab_type": "text"
      },
      "source": [
        "# Model\n",
        "\n",
        "for LTC-USD"
      ]
    },
    {
      "cell_type": "code",
      "metadata": {
        "id": "eh7qJUKfuakI",
        "colab_type": "code",
        "colab": {
          "base_uri": "https://localhost:8080/",
          "height": 81
        },
        "outputId": "f95b5ae2-1c81-43a1-83f9-ec2874ed87df"
      },
      "source": [
        "import matplotlib.pyplot as plt\n",
        "\n",
        "import tensorflow as tf\n",
        "from keras.models import Sequential\n",
        "from keras.optimizers import Adam\n",
        "from keras.layers import  Dense,Dropout, LSTM, CuDNNLSTM, BatchNormalization"
      ],
      "execution_count": 20,
      "outputs": [
        {
          "output_type": "display_data",
          "data": {
            "text/html": [
              "<p style=\"color: red;\">\n",
              "The default version of TensorFlow in Colab will soon switch to TensorFlow 2.x.<br>\n",
              "We recommend you <a href=\"https://www.tensorflow.org/guide/migrate\" target=\"_blank\">upgrade</a> now \n",
              "or ensure your notebook will continue to use TensorFlow 1.x via the <code>%tensorflow_version 1.x</code> magic:\n",
              "<a href=\"https://colab.research.google.com/notebooks/tensorflow_version.ipynb\" target=\"_blank\">more info</a>.</p>\n"
            ],
            "text/plain": [
              "<IPython.core.display.HTML object>"
            ]
          },
          "metadata": {
            "tags": []
          }
        },
        {
          "output_type": "stream",
          "text": [
            "Using TensorFlow backend.\n"
          ],
          "name": "stderr"
        }
      ]
    },
    {
      "cell_type": "code",
      "metadata": {
        "id": "ZFNe4id7Fee8",
        "colab_type": "code",
        "colab": {}
      },
      "source": [
        "model = Sequential()\n",
        "model.add(CuDNNLSTM(256, input_shape=(X_train.shape[1:]), return_sequences=True))\n",
        "model.add(Dropout(0.2))\n",
        "model.add(BatchNormalization())\n",
        "\n",
        "model.add(CuDNNLSTM(256, return_sequences=True))\n",
        "model.add(Dropout(0.1))\n",
        "model.add(BatchNormalization())\n",
        "\n",
        "\n",
        "model.add(CuDNNLSTM(256))\n",
        "model.add(Dropout(0.2))\n",
        "model.add(BatchNormalization())\n",
        "\n",
        "\n",
        "model.add(Dense(32, activation='relu'))\n",
        "model.add(Dropout(0.2))\n",
        "\n",
        "model.add(Dense(2, activation='softmax'))"
      ],
      "execution_count": 0,
      "outputs": []
    },
    {
      "cell_type": "code",
      "metadata": {
        "id": "7UxAH8y3L_pH",
        "colab_type": "code",
        "colab": {
          "base_uri": "https://localhost:8080/",
          "height": 585
        },
        "outputId": "0715532c-611b-465c-9544-6b45771eaf7f"
      },
      "source": [
        "model.summary()"
      ],
      "execution_count": 93,
      "outputs": [
        {
          "output_type": "stream",
          "text": [
            "Model: \"sequential_21\"\n",
            "_________________________________________________________________\n",
            "Layer (type)                 Output Shape              Param #   \n",
            "=================================================================\n",
            "cu_dnnlstm_67 (CuDNNLSTM)    (None, 60, 256)           272384    \n",
            "_________________________________________________________________\n",
            "dropout_71 (Dropout)         (None, 60, 256)           0         \n",
            "_________________________________________________________________\n",
            "batch_normalization_56 (Batc (None, 60, 256)           1024      \n",
            "_________________________________________________________________\n",
            "cu_dnnlstm_68 (CuDNNLSTM)    (None, 60, 256)           526336    \n",
            "_________________________________________________________________\n",
            "dropout_72 (Dropout)         (None, 60, 256)           0         \n",
            "_________________________________________________________________\n",
            "batch_normalization_57 (Batc (None, 60, 256)           1024      \n",
            "_________________________________________________________________\n",
            "cu_dnnlstm_69 (CuDNNLSTM)    (None, 256)               526336    \n",
            "_________________________________________________________________\n",
            "dropout_73 (Dropout)         (None, 256)               0         \n",
            "_________________________________________________________________\n",
            "batch_normalization_58 (Batc (None, 256)               1024      \n",
            "_________________________________________________________________\n",
            "dense_23 (Dense)             (None, 32)                8224      \n",
            "_________________________________________________________________\n",
            "dropout_74 (Dropout)         (None, 32)                0         \n",
            "_________________________________________________________________\n",
            "dense_24 (Dense)             (None, 2)                 66        \n",
            "=================================================================\n",
            "Total params: 1,336,418\n",
            "Trainable params: 1,334,882\n",
            "Non-trainable params: 1,536\n",
            "_________________________________________________________________\n"
          ],
          "name": "stdout"
        }
      ]
    },
    {
      "cell_type": "code",
      "metadata": {
        "id": "XDfgfjz2Y1Zz",
        "colab_type": "code",
        "colab": {}
      },
      "source": [
        "model.compile(loss='sparse_categorical_crossentropy',\n",
        "              optimizer = Adam(lr=0.01, decay = 1e-5),\n",
        "              metrics = ['accuracy'])"
      ],
      "execution_count": 0,
      "outputs": []
    },
    {
      "cell_type": "code",
      "metadata": {
        "id": "waceTcERZh11",
        "colab_type": "code",
        "colab": {
          "base_uri": "https://localhost:8080/",
          "height": 390
        },
        "outputId": "e7a7689f-98f8-4b61-cc7c-46704a488bf6"
      },
      "source": [
        "ml = model.fit(X_train, y_train, epochs = 10, batch_size=64 ,validation_data=(X_test, y_test))"
      ],
      "execution_count": 95,
      "outputs": [
        {
          "output_type": "stream",
          "text": [
            "Train on 82166 samples, validate on 4018 samples\n",
            "Epoch 1/10\n",
            "82166/82166 [==============================] - 100s 1ms/step - loss: 0.7017 - acc: 0.5006 - val_loss: 0.6932 - val_acc: 0.5000\n",
            "Epoch 2/10\n",
            "82166/82166 [==============================] - 95s 1ms/step - loss: 0.6935 - acc: 0.4981 - val_loss: 0.6931 - val_acc: 0.5000\n",
            "Epoch 3/10\n",
            "82166/82166 [==============================] - 95s 1ms/step - loss: 0.6934 - acc: 0.5049 - val_loss: 0.6938 - val_acc: 0.5000\n",
            "Epoch 4/10\n",
            "82166/82166 [==============================] - 94s 1ms/step - loss: 0.6935 - acc: 0.4991 - val_loss: 0.6932 - val_acc: 0.5000\n",
            "Epoch 5/10\n",
            "82166/82166 [==============================] - 94s 1ms/step - loss: 0.6935 - acc: 0.5015 - val_loss: 0.6932 - val_acc: 0.5000\n",
            "Epoch 6/10\n",
            "82166/82166 [==============================] - 94s 1ms/step - loss: 0.6935 - acc: 0.4977 - val_loss: 0.6933 - val_acc: 0.5000\n",
            "Epoch 7/10\n",
            "82166/82166 [==============================] - 94s 1ms/step - loss: 0.6935 - acc: 0.4992 - val_loss: 0.6943 - val_acc: 0.5000\n",
            "Epoch 8/10\n",
            "82166/82166 [==============================] - 94s 1ms/step - loss: 0.6936 - acc: 0.4961 - val_loss: 0.6935 - val_acc: 0.5000\n",
            "Epoch 9/10\n",
            "82166/82166 [==============================] - 94s 1ms/step - loss: 0.6934 - acc: 0.5010 - val_loss: 0.6938 - val_acc: 0.5000\n",
            "Epoch 10/10\n",
            "82166/82166 [==============================] - 94s 1ms/step - loss: 0.6934 - acc: 0.5010 - val_loss: 0.6941 - val_acc: 0.5000\n"
          ],
          "name": "stdout"
        }
      ]
    },
    {
      "cell_type": "code",
      "metadata": {
        "id": "hw7dkX5zZ6uL",
        "colab_type": "code",
        "colab": {
          "base_uri": "https://localhost:8080/",
          "height": 367
        },
        "outputId": "25267f06-bf53-4b75-c654-15e3f9d16951"
      },
      "source": [
        "f, (a, b) = plt.subplots(1,2, sharex=False, figsize=(15, 5))\n",
        "\n",
        "a.plot(ml.history['acc'])\n",
        "a.set_title('Accuracy')\n",
        "a.set_xlabel('epochs')\n",
        "a.set_ylabel('Accuracy')\n",
        "\n",
        "b.plot(ml.history['loss'])\n",
        "b.set_title('Loss')\n",
        "b.set_xlabel('epochs')\n",
        "b.set_ylabel('loss')\n"
      ],
      "execution_count": 96,
      "outputs": [
        {
          "output_type": "execute_result",
          "data": {
            "text/plain": [
              "Text(0, 0.5, 'loss')"
            ]
          },
          "metadata": {
            "tags": []
          },
          "execution_count": 96
        },
        {
          "output_type": "display_data",
          "data": {
            "image/png": "[encoded data removed]",
            "text/plain": [
              "<Figure size 1080x360 with 2 Axes>"
            ]
          },
          "metadata": {
            "tags": []
          }
        }
      ]
    },
    {
      "cell_type": "code",
      "metadata": {
        "id": "LrqNEq76iMwv",
        "colab_type": "code",
        "colab": {
          "base_uri": "https://localhost:8080/",
          "height": 367
        },
        "outputId": "008fd089-6604-4be6-b27e-1048f6eb8339"
      },
      "source": [
        "f, (a, b) = plt.subplots(1,2, sharex=False, figsize=(15, 5))\n",
        "\n",
        "a.plot(ml.history['val_acc'])\n",
        "a.set_title('Val_Accuracy')\n",
        "a.set_xlabel('epochs')\n",
        "a.set_ylabel('Val_Accuracy')\n",
        "\n",
        "b.plot(ml.history['val_loss'])\n",
        "b.set_title('Val_Loss')\n",
        "b.set_xlabel('epochs')\n",
        "b.set_ylabel('Val_loss')\n"
      ],
      "execution_count": 97,
      "outputs": [
        {
          "output_type": "execute_result",
          "data": {
            "text/plain": [
              "Text(0, 0.5, 'Val_loss')"
            ]
          },
          "metadata": {
            "tags": []
          },
          "execution_count": 97
        },
        {
          "output_type": "display_data",
          "data": {
            "image/png": "[encoded data removed]",
            "text/plain": [
              "<Figure size 1080x360 with 2 Axes>"
            ]
          },
          "metadata": {
            "tags": []
          }
        }
      ]
    }
  ]
}