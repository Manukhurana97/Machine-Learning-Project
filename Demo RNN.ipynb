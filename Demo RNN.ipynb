{
  "nbformat": 4,
  "nbformat_minor": 0,
  "metadata": {
    "colab": {
      "name": "RNN.ipynb",
      "provenance": [],
      "collapsed_sections": []
    },
    "kernelspec": {
      "name": "python3",
      "display_name": "Python 3"
    },
    "accelerator": "GPU"
  },
  "cells": [
    {
      "cell_type": "code",
      "metadata": {
        "id": "EFRlMzx583HX",
        "colab_type": "code",
        "colab": {}
      },
      "source": [
        "from keras.models import Sequential\n",
        "from keras.layers import Dense ,  Dropout, LSTM, CuDNNLSTM\n",
        "import keras.datasets.mnist as mnist\n",
        "from keras.optimizers import Adam\n",
        "import matplotlib.pyplot as plt\n"
      ],
      "execution_count": 0,
      "outputs": []
    },
    {
      "cell_type": "code",
      "metadata": {
        "id": "Ib_o7YAt_kCi",
        "colab_type": "code",
        "colab": {}
      },
      "source": [
        "(X_train, y_train), (X_test, y_test) = mnist.load_data()"
      ],
      "execution_count": 0,
      "outputs": []
    },
    {
      "cell_type": "code",
      "metadata": {
        "id": "ahin9Cq9_-f8",
        "colab_type": "code",
        "outputId": "bb6b7e85-38e6-4b70-efdc-67f035058ca9",
        "colab": {
          "base_uri": "https://localhost:8080/",
          "height": 34
        }
      },
      "source": [
        "X_train.shape, X_test.shape, y_train.shape, y_test.shape"
      ],
      "execution_count": 0,
      "outputs": [
        {
          "output_type": "execute_result",
          "data": {
            "text/plain": [
              "((60000, 28, 28), (10000, 28, 28), (60000,), (10000,))"
            ]
          },
          "metadata": {
            "tags": []
          },
          "execution_count": 51
        }
      ]
    },
    {
      "cell_type": "markdown",
      "metadata": {
        "id": "B6J-O7CZkf0o",
        "colab_type": "text"
      },
      "source": [
        "Normalize X"
      ]
    },
    {
      "cell_type": "code",
      "metadata": {
        "id": "vmZ3bAaKkjE9",
        "colab_type": "code",
        "colab": {}
      },
      "source": [
        "X_train = X_train/255.0\n",
        "X_test = X_test/255.0"
      ],
      "execution_count": 0,
      "outputs": []
    },
    {
      "cell_type": "markdown",
      "metadata": {
        "id": "GQL8XZIgUrw7",
        "colab_type": "text"
      },
      "source": [
        "Creating a Model"
      ]
    },
    {
      "cell_type": "code",
      "metadata": {
        "id": "G-oWP-5rAiv6",
        "colab_type": "code",
        "colab": {}
      },
      "source": [
        "# LSTM : Recurring Neural NetWork(- Cpu -)\n",
        "model = Sequential()\n",
        "\n",
        "model.add(LSTM(128, input_shape = (X_train.shape[1:]) , activation='relu', return_sequences=True))\n",
        "model.add(Dropout(0.2)) \n",
        "\n",
        "model.add(LSTM(128, activation='relu'))\n",
        "model.add(Dropout(0.1)) \n",
        "\n",
        "model.add(Dense(32, activation='relu'))\n",
        "model.add(Dropout(0.2)) \n",
        "\n",
        "model.add(Dense(10, activation='softmax'))"
      ],
      "execution_count": 0,
      "outputs": []
    },
    {
      "cell_type": "code",
      "metadata": {
        "id": "cO42wmCPAbv9",
        "colab_type": "code",
        "outputId": "d7137c14-fdbc-46b0-f7e2-74db717d41a6",
        "colab": {
          "base_uri": "https://localhost:8080/",
          "height": 391
        }
      },
      "source": [
        "model.summary()"
      ],
      "execution_count": 0,
      "outputs": [
        {
          "output_type": "stream",
          "text": [
            "Model: \"sequential_15\"\n",
            "_________________________________________________________________\n",
            "Layer (type)                 Output Shape              Param #   \n",
            "=================================================================\n",
            "lstm_21 (LSTM)               (None, 28, 128)           80384     \n",
            "_________________________________________________________________\n",
            "dropout_19 (Dropout)         (None, 28, 128)           0         \n",
            "_________________________________________________________________\n",
            "lstm_22 (LSTM)               (None, 128)               131584    \n",
            "_________________________________________________________________\n",
            "dropout_20 (Dropout)         (None, 128)               0         \n",
            "_________________________________________________________________\n",
            "dense_9 (Dense)              (None, 32)                4128      \n",
            "_________________________________________________________________\n",
            "dropout_21 (Dropout)         (None, 32)                0         \n",
            "_________________________________________________________________\n",
            "dense_10 (Dense)             (None, 10)                330       \n",
            "=================================================================\n",
            "Total params: 216,426\n",
            "Trainable params: 216,426\n",
            "Non-trainable params: 0\n",
            "_________________________________________________________________\n"
          ],
          "name": "stdout"
        }
      ]
    },
    {
      "cell_type": "code",
      "metadata": {
        "id": "25we4whXAZOs",
        "colab_type": "code",
        "colab": {}
      },
      "source": [
        "opt = Adam(lr=0.001, decay=1e-6)\n",
        "\n",
        "model.compile(\n",
        "    loss='sparse_categorical_crossentropy',\n",
        "    optimizer=opt,\n",
        "    metrics=['accuracy'],\n",
        ")\n"
      ],
      "execution_count": 0,
      "outputs": []
    },
    {
      "cell_type": "code",
      "metadata": {
        "id": "d-TBb4NzgA1C",
        "colab_type": "code",
        "outputId": "5fc163f6-183b-498b-f923-210110c7265e",
        "colab": {
          "base_uri": "https://localhost:8080/",
          "height": 204
        }
      },
      "source": [
        "m = model.fit(X_train, y_train, epochs=5, validation_data=(X_test, y_test))"
      ],
      "execution_count": 0,
      "outputs": [
        {
          "output_type": "stream",
          "text": [
            "Train on 60000 samples, validate on 10000 samples\n",
            "Epoch 1/5\n",
            "60000/60000 [==============================] - 226s 4ms/step - loss: 0.0615 - acc: 0.9840 - val_loss: 0.0417 - val_acc: 0.9880\n",
            "Epoch 2/5\n",
            "60000/60000 [==============================] - 226s 4ms/step - loss: 0.0533 - acc: 0.9858 - val_loss: 0.1109 - val_acc: 0.9799\n",
            "Epoch 3/5\n",
            "60000/60000 [==============================] - 228s 4ms/step - loss: 0.0634 - acc: 0.9832 - val_loss: 0.0492 - val_acc: 0.9858\n",
            "Epoch 4/5\n",
            "60000/60000 [==============================] - 227s 4ms/step - loss: 0.0421 - acc: 0.9879 - val_loss: 0.0425 - val_acc: 0.9872\n",
            "Epoch 5/5\n",
            "60000/60000 [==============================] - 231s 4ms/step - loss: 0.0381 - acc: 0.9894 - val_loss: 0.0510 - val_acc: 0.9889\n"
          ],
          "name": "stdout"
        }
      ]
    },
    {
      "cell_type": "code",
      "metadata": {
        "id": "Kpz8rVTIi_V3",
        "colab_type": "code",
        "outputId": "8e7eb9d6-b68a-4afa-a11b-58a2e9d581c4",
        "colab": {
          "base_uri": "https://localhost:8080/",
          "height": 282
        }
      },
      "source": [
        "\n",
        "f, (a,b) = plt.subplots(2,1)\n",
        "a.plot(m.history['loss'])\n",
        "b.plot(m.history['acc'])\n"
      ],
      "execution_count": 0,
      "outputs": [
        {
          "output_type": "execute_result",
          "data": {
            "text/plain": [
              "[<matplotlib.lines.Line2D at 0x7f9fb2d9b940>]"
            ]
          },
          "metadata": {
            "tags": []
          },
          "execution_count": 70
        },
        {
          "output_type": "display_data",
          "data": {
            "image/png": "[encoded data removed]",
            "text/plain": [
              "<Figure size 432x288 with 2 Axes>"
            ]
          },
          "metadata": {
            "tags": []
          }
        }
      ]
    },
    {
      "cell_type": "code",
      "metadata": {
        "id": "MkWzi7OBr9oU",
        "colab_type": "code",
        "outputId": "e956acb5-2b6a-4b6c-bef0-71eedd1887a5",
        "colab": {
          "base_uri": "https://localhost:8080/",
          "height": 282
        }
      },
      "source": [
        "f1, (a1,b1) = plt.subplots(2,1)\n",
        "a1.plot(m.history['val_loss'])\n",
        "b1.plot(m.history['val_acc'])"
      ],
      "execution_count": 0,
      "outputs": [
        {
          "output_type": "execute_result",
          "data": {
            "text/plain": [
              "[<matplotlib.lines.Line2D at 0x7f9fb2cbde80>]"
            ]
          },
          "metadata": {
            "tags": []
          },
          "execution_count": 71
        },
        {
          "output_type": "display_data",
          "data": {
            "image/png": "[encoded data removed]",
            "text/plain": [
              "<Figure size 432x288 with 2 Axes>"
            ]
          },
          "metadata": {
            "tags": []
          }
        }
      ]
    },
    {
      "cell_type": "markdown",
      "metadata": {
        "id": "idLKuTiyt0E1",
        "colab_type": "text"
      },
      "source": [
        "CuDNNLSTM"
      ]
    },
    {
      "cell_type": "code",
      "metadata": {
        "id": "o8LnH74wtzae",
        "colab_type": "code",
        "colab": {}
      },
      "source": [
        "model1 = Sequential()\n",
        "model1.add(CuDNNLSTM(128, input_shape = (X_train.shape[1:]), return_sequences=True))\n",
        "model1.add(Dropout(0.2))\n",
        "\n",
        "model1.add(CuDNNLSTM(128, ))\n",
        "model1.add(Dropout(0.1))\n",
        "\n",
        "model1.add(Dense(32, activation='relu'))\n",
        "model1.add(Dropout(0.2))\n",
        "\n",
        "model1.add(Dense(10, activation='softmax'))\n"
      ],
      "execution_count": 0,
      "outputs": []
    },
    {
      "cell_type": "code",
      "metadata": {
        "id": "wZVFhAQvxwSV",
        "colab_type": "code",
        "colab": {}
      },
      "source": [
        "opt1 = Adam(lr = 0.001, decay = 1e-6)\n",
        "\n",
        "model.compile(loss = 'sparse_categorical_crossentropy',\n",
        "              optimizer = opt1,\n",
        "              metrics = ['accuracy']\n",
        "              )"
      ],
      "execution_count": 0,
      "outputs": []
    },
    {
      "cell_type": "code",
      "metadata": {
        "id": "UhrZjQZ-yMoq",
        "colab_type": "code",
        "outputId": "b3122eb7-e010-4d35-aaf3-cb781e0f8d1d",
        "colab": {
          "base_uri": "https://localhost:8080/",
          "height": 204
        }
      },
      "source": [
        "m1 = model.fit(X_train, y_train , epochs=5, validation_data=(X_test, y_test))"
      ],
      "execution_count": 0,
      "outputs": [
        {
          "output_type": "stream",
          "text": [
            "Train on 60000 samples, validate on 10000 samples\n",
            "Epoch 1/5\n",
            "60000/60000 [==============================] - 235s 4ms/step - loss: 0.0401 - acc: 0.9892 - val_loss: 0.0335 - val_acc: 0.9911\n",
            "Epoch 2/5\n",
            "60000/60000 [==============================] - 231s 4ms/step - loss: 0.0385 - acc: 0.9897 - val_loss: 0.0470 - val_acc: 0.9862\n",
            "Epoch 3/5\n",
            "60000/60000 [==============================] - 232s 4ms/step - loss: 0.0305 - acc: 0.9918 - val_loss: 0.0389 - val_acc: 0.9912\n",
            "Epoch 4/5\n",
            "60000/60000 [==============================] - 231s 4ms/step - loss: 0.0280 - acc: 0.9919 - val_loss: 0.0428 - val_acc: 0.9906\n",
            "Epoch 5/5\n",
            "60000/60000 [==============================] - 230s 4ms/step - loss: 0.0296 - acc: 0.9917 - val_loss: 0.0492 - val_acc: 0.9869\n"
          ],
          "name": "stdout"
        }
      ]
    },
    {
      "cell_type": "code",
      "metadata": {
        "id": "5XaSd5Mc4UWF",
        "colab_type": "code",
        "outputId": "deba012b-4b20-4ed7-f2eb-1cc6e1763001",
        "colab": {
          "base_uri": "https://localhost:8080/",
          "height": 282
        }
      },
      "source": [
        "f, (a,b) = plt.subplots(2,1)\n",
        "a.plot(m1.history['loss'])\n",
        "b.plot(m1.history['acc'])"
      ],
      "execution_count": 0,
      "outputs": [
        {
          "output_type": "execute_result",
          "data": {
            "text/plain": [
              "[<matplotlib.lines.Line2D at 0x7f9fb2550be0>]"
            ]
          },
          "metadata": {
            "tags": []
          },
          "execution_count": 79
        },
        {
          "output_type": "display_data",
          "data": {
            "image/png": "[encoded data removed]",
            "text/plain": [
              "<Figure size 432x288 with 2 Axes>"
            ]
          },
          "metadata": {
            "tags": []
          }
        }
      ]
    },
    {
      "cell_type": "code",
      "metadata": {
        "id": "e8XCRQKg4cgr",
        "colab_type": "code",
        "outputId": "b6ee77d1-68ce-42be-fa31-3698f0e775f6",
        "colab": {
          "base_uri": "https://localhost:8080/",
          "height": 282
        }
      },
      "source": [
        "f1, (a1,b1) = plt.subplots(2,1)\n",
        "a1.plot(m1.history['val_loss'])\n",
        "b1.plot(m1.history['val_acc'])"
      ],
      "execution_count": 0,
      "outputs": [
        {
          "output_type": "execute_result",
          "data": {
            "text/plain": [
              "[<matplotlib.lines.Line2D at 0x7f9fb24931d0>]"
            ]
          },
          "metadata": {
            "tags": []
          },
          "execution_count": 80
        },
        {
          "output_type": "display_data",
          "data": {
            "image/png": "[encoded data removed]",
            "text/plain": [
              "<Figure size 432x288 with 2 Axes>"
            ]
          },
          "metadata": {
            "tags": []
          }
        }
      ]
    },
    {
      "cell_type": "code",
      "metadata": {
        "id": "78nVfeHD4mez",
        "colab_type": "code",
        "colab": {}
      },
      "source": [
        ""
      ],
      "execution_count": 0,
      "outputs": []
    }
  ]
}