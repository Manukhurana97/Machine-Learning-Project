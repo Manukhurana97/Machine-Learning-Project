{
  "nbformat": 4,
  "nbformat_minor": 0,
  "metadata": {
    "colab": {
      "name": "Colab's New Code Editor",
      "version": "0.3.2",
      "provenance": [],
      "collapsed_sections": []
    },
    "kernelspec": {
      "display_name": "Python 3",
      "name": "python3"
    }
  },
  "cells": [
    {
      "cell_type": "code",
      "metadata": {
        "id": "rp5C2UXb58Ie",
        "colab_type": "code",
        "colab": {}
      },
      "source": [
        "import numpy as np\n",
        "import matplotlib.pyplot as plt\n",
        "from statistics import mean"
      ],
      "execution_count": 0,
      "outputs": []
    },
    {
      "cell_type": "code",
      "metadata": {
        "id": "AoRhglQhjRaz",
        "colab_type": "code",
        "colab": {
          "base_uri": "https://localhost:8080/",
          "height": 269
        },
        "outputId": "f6afe0df-fd28-4e3b-d7e1-350b74829f20"
      },
      "source": [
        "x=np.array([1,2,3,4,5,6],dtype=np.float)\n",
        "y=np.array([5, 4, 6, 5, 6, 7],dtype=np.float)\n",
        "\n",
        "\n",
        "plt.scatter(x,y)\n",
        "plt.show()"
      ],
      "execution_count": 47,
      "outputs": [
        {
          "output_type": "display_data",
          "data": {
            "image/png": "[encoded data removed]",
            "text/plain": [
              "<Figure size 432x288 with 1 Axes>"
            ]
          },
          "metadata": {
            "tags": []
          }
        }
      ]
    },
    {
      "cell_type": "code",
      "metadata": {
        "id": "gGfSqvIWkBdR",
        "colab_type": "code",
        "colab": {
          "base_uri": "https://localhost:8080/",
          "height": 51
        },
        "outputId": "982d2f6b-d49e-41e2-c7ea-b3657f76f59e"
      },
      "source": [
        "def best_fit(xs,ys):\n",
        "  m = (((mean(xs)*mean(ys))- mean(xs*ys))/((mean(xs)**2)-mean(xs**2)))\n",
        "  \n",
        "  b = mean(ys)-m*(mean(xs))\n",
        "  \n",
        "  return m,b\n",
        "\n",
        "m,b  = best_fit(x,y)\n",
        "\n",
        "\n"
      ],
      "execution_count": 81,
      "outputs": [
        {
          "output_type": "execute_result",
          "data": {
            "text/plain": [
              "array([4.42857143, 4.85714286, 5.28571429, 5.71428571, 6.14285714,\n",
              "       6.57142857])"
            ]
          },
          "metadata": {
            "tags": []
          },
          "execution_count": 81
        }
      ]
    },
    {
      "cell_type": "code",
      "metadata": {
        "id": "NKTg1KmatsNC",
        "colab_type": "code",
        "colab": {
          "base_uri": "https://localhost:8080/",
          "height": 269
        },
        "outputId": "28aa3e49-7b19-402c-865c-c034c98a8dcb"
      },
      "source": [
        "given_x = []\n",
        "for i in range(6,12,1):\n",
        "  given_x.append(i)\n",
        "  \n",
        "predict_y = [(m*i+b) for i in given_x]\n",
        "\n",
        "  \n",
        "\n",
        "plt.scatter(x,y)\n",
        "plt.plot(x, slope_line)\n",
        "plt.plot(given_x, predict_y,color = 'red')\n",
        "plt.show()  \n"
      ],
      "execution_count": 85,
      "outputs": [
        {
          "output_type": "display_data",
          "data": {
            "image/png": "[encoded data removed]",
            "text/plain": [
              "<Figure size 432x288 with 1 Axes>"
            ]
          },
          "metadata": {
            "tags": []
          }
        }
      ]
    },
    {
      "cell_type": "code",
      "metadata": {
        "id": "QWubs9ufvjYU",
        "colab_type": "code",
        "colab": {}
      },
      "source": [
        "# square error\n",
        "# r**2 = 1-((SEy^)/SE(mean(y)))\n"
      ],
      "execution_count": 0,
      "outputs": []
    },
    {
      "cell_type": "code",
      "metadata": {
        "id": "3bFppVg7x--m",
        "colab_type": "code",
        "colab": {
          "base_uri": "https://localhost:8080/",
          "height": 34
        },
        "outputId": "6dca3dd3-cbda-4922-cc28-bc7d532c47b2"
      },
      "source": [
        "def Squared_error(ys_orig,ys_line):\n",
        "    return sum((ys_line - ys_orig) * (ys_line - ys_orig))\n",
        "\n",
        "\n",
        "\n",
        "def coffiency_determination(ys_orig,ys_line):\n",
        "  \n",
        "  y_mean_line = [mean(ys_orig) for y in ys_orig] # mean of line\n",
        "  \n",
        "  squared_error_regr = Squared_error(ys_orig, ys_line) # SEy^2\n",
        "  \n",
        "  squared_error_y_mean = Squared_error(ys_orig, y_mean_line) # SE(mean(y))\n",
        "  \n",
        "  return 1 - (squared_error_regr/squared_error_y_mean) # 1-SE\n",
        "  \n",
        "\n",
        "r_square = coffiency_determination(y, slope_line)\n",
        "\n",
        "print(r_square)"
      ],
      "execution_count": 105,
      "outputs": [
        {
          "output_type": "stream",
          "text": [
            "0.5844155844155845\n"
          ],
          "name": "stdout"
        }
      ]
    },
    {
      "cell_type": "code",
      "metadata": {
        "id": "W3ECvafd3RJZ",
        "colab_type": "code",
        "colab": {}
      },
      "source": [
        "#  random _data_points\n",
        "import random\n",
        "\n",
        "def create_dataset(hm, variance, step=2,correlation = False):\n",
        "  val = 1\n",
        "  ys = []\n",
        "  for i in range(hm):\n",
        "    \n",
        "    y = val+random.randrange(-variance, variance)\n",
        "    ys.append(y)\n",
        "    \n",
        "    if correlation and correlation =='pos':\n",
        "      val+=step\n",
        "    elif correlation and correlation =='neg':\n",
        "      val-=step\n",
        "  xs  = [i for i in range(len(ys))]  \n",
        "  \n",
        "  return np.array(xs, dtype = np.float), np.array(ys, dtype = np.float)"
      ],
      "execution_count": 0,
      "outputs": []
    },
    {
      "cell_type": "code",
      "metadata": {
        "id": "1Vfciu9758Id",
        "colab_type": "code",
        "colab": {
          "base_uri": "https://localhost:8080/",
          "height": 286
        },
        "outputId": "d6ed76d6-27b0-4147-e810-e0abd2da6667"
      },
      "source": [
        "\n",
        "xs,ys = create_dataset(100,40,2,correlation='pos')\n",
        "plt.scatter(xs,ys)"
      ],
      "execution_count": 177,
      "outputs": [
        {
          "output_type": "execute_result",
          "data": {
            "text/plain": [
              "<matplotlib.collections.PathCollection at 0x7f435f1d6518>"
            ]
          },
          "metadata": {
            "tags": []
          },
          "execution_count": 177
        },
        {
          "output_type": "display_data",
          "data": {
            "image/png": "[encoded data removed]",
            "text/plain": [
              "<Figure size 432x288 with 1 Axes>"
            ]
          },
          "metadata": {
            "tags": []
          }
        }
      ]
    },
    {
      "cell_type": "code",
      "metadata": {
        "id": "CX8loBfw53s0",
        "colab_type": "code",
        "colab": {}
      },
      "source": [
        "def best_fit(xs,ys):\n",
        "  m = (((mean(xs)*mean(ys))- mean(xs*ys))/((mean(xs)**2)-mean(xs**2)))\n",
        "  \n",
        "  b = mean(ys)-m*(mean(xs))\n",
        "  \n",
        "  return m,b\n",
        "\n",
        "m,b  = best_fit(xs,ys)"
      ],
      "execution_count": 0,
      "outputs": []
    },
    {
      "cell_type": "code",
      "metadata": {
        "id": "E4PNT3F9_Tcm",
        "colab_type": "code",
        "colab": {}
      },
      "source": [
        ""
      ],
      "execution_count": 0,
      "outputs": []
    },
    {
      "cell_type": "code",
      "metadata": {
        "id": "dg4sHs_j502Z",
        "colab_type": "code",
        "colab": {
          "base_uri": "https://localhost:8080/",
          "height": 54
        },
        "outputId": "dc2c18ec-c08f-4274-ee9c-793852e28783"
      },
      "source": [
        "slope = [(m*i +b) for i in xs]\n",
        "print(slope)"
      ],
      "execution_count": 179,
      "outputs": [
        {
          "output_type": "stream",
          "text": [
            "[-8.056633663366355, -5.956903690369055, -3.8571737173717553, -1.7574437443744557, 0.34228622862284475, 2.442016201620145, 4.541746174617444, 6.641476147614744, 8.741206120612045, 10.840936093609344, 12.940666066606646, 15.040396039603944, 17.140126012601243, 19.239855985598545, 21.339585958595844, 23.439315931593146, 25.539045904590445, 27.638775877587747, 29.738505850585042, 31.838235823582345, 33.93796579657965, 36.03769576957694, 38.137425742574244, 40.23715571557155, 42.33688568856884, 44.436615661566144, 46.536345634563446, 48.63607560756075, 50.73580558055804, 52.835535553555346, 54.93526552655265, 57.03499549954995, 59.134725472547245, 61.23445544554454, 63.33418541854185, 65.43391539153914, 67.53364536453644, 69.63337533753375, 71.73310531053104, 73.83283528352834, 75.93256525652565, 78.03229522952294, 80.13202520252024, 82.23175517551755, 84.33148514851484, 86.43121512151214, 88.53094509450945, 90.63067506750674, 92.73040504050404, 94.83013501350135, 96.92986498649864, 99.02959495949595, 101.12932493249325, 103.22905490549054, 105.32878487848785, 107.42851485148515, 109.52824482448244, 111.62797479747975, 113.72770477047705, 115.82743474347434, 117.92716471647165, 120.02689468946893, 122.12662466246626, 124.22635463546355, 126.32608460846085, 128.42581458145816, 130.52554455445545, 132.62527452745275, 134.72500450045004, 136.82473447344734, 138.92446444644463, 141.02419441944193, 143.12392439243922, 145.22365436543657, 147.32338433843387, 149.42311431143116, 151.52284428442846, 153.62257425742575, 155.72230423042305, 157.82203420342034, 159.92176417641764, 162.02149414941493, 164.12122412241223, 166.22095409540952, 168.32068406840682, 170.42041404140417, 172.52014401440147, 174.61987398739876, 176.71960396039606, 178.81933393339335, 180.91906390639065, 183.01879387938794, 185.11852385238524, 187.21825382538253, 189.31798379837983, 191.41771377137712, 193.51744374437442, 195.61717371737177, 197.71690369036907, 199.81663366336636]\n"
          ],
          "name": "stdout"
        }
      ]
    },
    {
      "cell_type": "code",
      "metadata": {
        "id": "Ahv3ZpEn5yYt",
        "colab_type": "code",
        "colab": {
          "base_uri": "https://localhost:8080/",
          "height": 286
        },
        "outputId": "b9f3fd38-e432-4f79-b497-fd1e402be8f1"
      },
      "source": [
        "plt.scatter(xs,ys)\n",
        "plt.plot(xs,slope)"
      ],
      "execution_count": 180,
      "outputs": [
        {
          "output_type": "execute_result",
          "data": {
            "text/plain": [
              "[<matplotlib.lines.Line2D at 0x7f435f1716d8>]"
            ]
          },
          "metadata": {
            "tags": []
          },
          "execution_count": 180
        },
        {
          "output_type": "display_data",
          "data": {
            "image/png": "[encoded data removed]",
            "text/plain": [
              "<Figure size 432x288 with 1 Axes>"
            ]
          },
          "metadata": {
            "tags": []
          }
        }
      ]
    },
    {
      "cell_type": "code",
      "metadata": {
        "id": "aeCfpK6S8wsG",
        "colab_type": "code",
        "colab": {}
      },
      "source": [
        "def coffencent_of_determination(ys_orig,ys_line):\n",
        "  y_mean_line = [mean(ys_orig) for _ in ys_orig]\n",
        "  \n",
        "  y_square_reg = sum((ys_line-ys_orig)**2)\n",
        "  y_square_mean_reg = sum((y_mean_line-ys_orig)**2)\n",
        "  \n",
        "  return 1-(y_square_reg/ y_square_mean_reg)\n",
        "  "
      ],
      "execution_count": 0,
      "outputs": []
    },
    {
      "cell_type": "code",
      "metadata": {
        "id": "z9bYWKSI-QUC",
        "colab_type": "code",
        "colab": {
          "base_uri": "https://localhost:8080/",
          "height": 34
        },
        "outputId": "b3ca3f3e-88fd-4db2-973d-12413a22b6b5"
      },
      "source": [
        "r_square = coffencent_of_determination(ys,slope)\n",
        "print(r_square)"
      ],
      "execution_count": 182,
      "outputs": [
        {
          "output_type": "stream",
          "text": [
            "0.8811100515040096\n"
          ],
          "name": "stdout"
        }
      ]
    },
    {
      "cell_type": "code",
      "metadata": {
        "id": "I2Y0ouLS_jJN",
        "colab_type": "code",
        "colab": {
          "base_uri": "https://localhost:8080/",
          "height": 286
        },
        "outputId": "f77394bc-8035-4d26-b308-a79f00f1eda5"
      },
      "source": [
        "#predict \n",
        "given_x = []\n",
        "\n",
        "for i in range(100,150,1):\n",
        "  given_x.append(i)\n",
        "predict_y = [(m* i+b) for i in given_x]\n",
        "\n",
        "\n",
        "plt.scatter(xs,ys)\n",
        "plt.plot(xs,slope)\n",
        "plt.plot(given_x, predict_y)"
      ],
      "execution_count": 187,
      "outputs": [
        {
          "output_type": "execute_result",
          "data": {
            "text/plain": [
              "[<matplotlib.lines.Line2D at 0x7f435f0e9dd8>]"
            ]
          },
          "metadata": {
            "tags": []
          },
          "execution_count": 187
        },
        {
          "output_type": "display_data",
          "data": {
            "image/png": "[encoded data removed]",
            "text/plain": [
              "<Figure size 432x288 with 1 Axes>"
            ]
          },
          "metadata": {
            "tags": []
          }
        }
      ]
    }
  ]
}